{
 "cells": [
  {
   "cell_type": "markdown",
   "metadata": {
    "colab_type": "text",
    "id": "GJYk9gRO_W9P"
   },
   "source": [
    "#Mega Case Study - Making a hybrid Deep Learning Model"
   ]
  },
  {
   "cell_type": "markdown",
   "metadata": {
    "colab_type": "text",
    "id": "D8PA8C_X_fHe"
   },
   "source": [
    "#Part 1 - SOM"
   ]
  },
  {
   "cell_type": "markdown",
   "metadata": {
    "colab_type": "text",
    "id": "48btSZ8cAAVt"
   },
   "source": [
    "##Install MiniSom Package"
   ]
  },
  {
   "cell_type": "code",
   "execution_count": 0,
   "metadata": {
    "colab": {
     "base_uri": "https://localhost:8080/",
     "height": 34
    },
    "colab_type": "code",
    "id": "5ueD5zlVAAVu",
    "outputId": "3530328f-8332-45b2-cadc-dec1cd573540"
   },
   "outputs": [
    {
     "name": "stdout",
     "output_type": "stream",
     "text": [
      "Requirement already satisfied: MiniSom in /usr/local/lib/python3.6/dist-packages (2.2.5)\n"
     ]
    }
   ],
   "source": [
    "!pip install MiniSom"
   ]
  },
  {
   "cell_type": "markdown",
   "metadata": {
    "colab_type": "text",
    "id": "y2L7M7QLAAVx"
   },
   "source": [
    "## Importing the libraries\n"
   ]
  },
  {
   "cell_type": "code",
   "execution_count": 1,
   "metadata": {
    "colab": {},
    "colab_type": "code",
    "id": "zy0_GMcbAAVx"
   },
   "outputs": [],
   "source": [
    "import numpy as np\n",
    "import pandas as pd\n",
    "import matplotlib.pyplot as plt"
   ]
  },
  {
   "cell_type": "markdown",
   "metadata": {
    "colab_type": "text",
    "id": "M74YAQUJAAVz"
   },
   "source": [
    "## Importing the dataset"
   ]
  },
  {
   "cell_type": "code",
   "execution_count": 2,
   "metadata": {
    "colab": {},
    "colab_type": "code",
    "id": "oP387iJvAAV0"
   },
   "outputs": [],
   "source": [
    "dataset = pd.read_csv('Credit_Card_Applications.csv')\n",
    "X = dataset.iloc[:, :-1].values \n",
    "y = dataset.iloc[:, -1].values"
   ]
  },
  {
   "cell_type": "code",
   "execution_count": 21,
   "metadata": {},
   "outputs": [
    {
     "data": {
      "text/html": [
       "<div>\n",
       "<style scoped>\n",
       "    .dataframe tbody tr th:only-of-type {\n",
       "        vertical-align: middle;\n",
       "    }\n",
       "\n",
       "    .dataframe tbody tr th {\n",
       "        vertical-align: top;\n",
       "    }\n",
       "\n",
       "    .dataframe thead th {\n",
       "        text-align: right;\n",
       "    }\n",
       "</style>\n",
       "<table border=\"1\" class=\"dataframe\">\n",
       "  <thead>\n",
       "    <tr style=\"text-align: right;\">\n",
       "      <th></th>\n",
       "      <th>CustomerID</th>\n",
       "      <th>A1</th>\n",
       "      <th>A2</th>\n",
       "      <th>A3</th>\n",
       "      <th>A4</th>\n",
       "      <th>A5</th>\n",
       "      <th>A6</th>\n",
       "      <th>A7</th>\n",
       "      <th>A8</th>\n",
       "      <th>A9</th>\n",
       "      <th>A10</th>\n",
       "      <th>A11</th>\n",
       "      <th>A12</th>\n",
       "      <th>A13</th>\n",
       "      <th>A14</th>\n",
       "      <th>Class</th>\n",
       "    </tr>\n",
       "  </thead>\n",
       "  <tbody>\n",
       "    <tr>\n",
       "      <th>0</th>\n",
       "      <td>15776156</td>\n",
       "      <td>1</td>\n",
       "      <td>22.08</td>\n",
       "      <td>11.460</td>\n",
       "      <td>2</td>\n",
       "      <td>4</td>\n",
       "      <td>4</td>\n",
       "      <td>1.585</td>\n",
       "      <td>0</td>\n",
       "      <td>0</td>\n",
       "      <td>0</td>\n",
       "      <td>1</td>\n",
       "      <td>2</td>\n",
       "      <td>100</td>\n",
       "      <td>1213</td>\n",
       "      <td>0</td>\n",
       "    </tr>\n",
       "    <tr>\n",
       "      <th>1</th>\n",
       "      <td>15739548</td>\n",
       "      <td>0</td>\n",
       "      <td>22.67</td>\n",
       "      <td>7.000</td>\n",
       "      <td>2</td>\n",
       "      <td>8</td>\n",
       "      <td>4</td>\n",
       "      <td>0.165</td>\n",
       "      <td>0</td>\n",
       "      <td>0</td>\n",
       "      <td>0</td>\n",
       "      <td>0</td>\n",
       "      <td>2</td>\n",
       "      <td>160</td>\n",
       "      <td>1</td>\n",
       "      <td>0</td>\n",
       "    </tr>\n",
       "    <tr>\n",
       "      <th>2</th>\n",
       "      <td>15662854</td>\n",
       "      <td>0</td>\n",
       "      <td>29.58</td>\n",
       "      <td>1.750</td>\n",
       "      <td>1</td>\n",
       "      <td>4</td>\n",
       "      <td>4</td>\n",
       "      <td>1.250</td>\n",
       "      <td>0</td>\n",
       "      <td>0</td>\n",
       "      <td>0</td>\n",
       "      <td>1</td>\n",
       "      <td>2</td>\n",
       "      <td>280</td>\n",
       "      <td>1</td>\n",
       "      <td>0</td>\n",
       "    </tr>\n",
       "    <tr>\n",
       "      <th>3</th>\n",
       "      <td>15687688</td>\n",
       "      <td>0</td>\n",
       "      <td>21.67</td>\n",
       "      <td>11.500</td>\n",
       "      <td>1</td>\n",
       "      <td>5</td>\n",
       "      <td>3</td>\n",
       "      <td>0.000</td>\n",
       "      <td>1</td>\n",
       "      <td>1</td>\n",
       "      <td>11</td>\n",
       "      <td>1</td>\n",
       "      <td>2</td>\n",
       "      <td>0</td>\n",
       "      <td>1</td>\n",
       "      <td>1</td>\n",
       "    </tr>\n",
       "    <tr>\n",
       "      <th>4</th>\n",
       "      <td>15715750</td>\n",
       "      <td>1</td>\n",
       "      <td>20.17</td>\n",
       "      <td>8.170</td>\n",
       "      <td>2</td>\n",
       "      <td>6</td>\n",
       "      <td>4</td>\n",
       "      <td>1.960</td>\n",
       "      <td>1</td>\n",
       "      <td>1</td>\n",
       "      <td>14</td>\n",
       "      <td>0</td>\n",
       "      <td>2</td>\n",
       "      <td>60</td>\n",
       "      <td>159</td>\n",
       "      <td>1</td>\n",
       "    </tr>\n",
       "    <tr>\n",
       "      <th>...</th>\n",
       "      <td>...</td>\n",
       "      <td>...</td>\n",
       "      <td>...</td>\n",
       "      <td>...</td>\n",
       "      <td>...</td>\n",
       "      <td>...</td>\n",
       "      <td>...</td>\n",
       "      <td>...</td>\n",
       "      <td>...</td>\n",
       "      <td>...</td>\n",
       "      <td>...</td>\n",
       "      <td>...</td>\n",
       "      <td>...</td>\n",
       "      <td>...</td>\n",
       "      <td>...</td>\n",
       "      <td>...</td>\n",
       "    </tr>\n",
       "    <tr>\n",
       "      <th>685</th>\n",
       "      <td>15808223</td>\n",
       "      <td>1</td>\n",
       "      <td>31.57</td>\n",
       "      <td>10.500</td>\n",
       "      <td>2</td>\n",
       "      <td>14</td>\n",
       "      <td>4</td>\n",
       "      <td>6.500</td>\n",
       "      <td>1</td>\n",
       "      <td>0</td>\n",
       "      <td>0</td>\n",
       "      <td>0</td>\n",
       "      <td>2</td>\n",
       "      <td>0</td>\n",
       "      <td>1</td>\n",
       "      <td>1</td>\n",
       "    </tr>\n",
       "    <tr>\n",
       "      <th>686</th>\n",
       "      <td>15769980</td>\n",
       "      <td>1</td>\n",
       "      <td>20.67</td>\n",
       "      <td>0.415</td>\n",
       "      <td>2</td>\n",
       "      <td>8</td>\n",
       "      <td>4</td>\n",
       "      <td>0.125</td>\n",
       "      <td>0</td>\n",
       "      <td>0</td>\n",
       "      <td>0</td>\n",
       "      <td>0</td>\n",
       "      <td>2</td>\n",
       "      <td>0</td>\n",
       "      <td>45</td>\n",
       "      <td>0</td>\n",
       "    </tr>\n",
       "    <tr>\n",
       "      <th>687</th>\n",
       "      <td>15675450</td>\n",
       "      <td>0</td>\n",
       "      <td>18.83</td>\n",
       "      <td>9.540</td>\n",
       "      <td>2</td>\n",
       "      <td>6</td>\n",
       "      <td>4</td>\n",
       "      <td>0.085</td>\n",
       "      <td>1</td>\n",
       "      <td>0</td>\n",
       "      <td>0</td>\n",
       "      <td>0</td>\n",
       "      <td>2</td>\n",
       "      <td>100</td>\n",
       "      <td>1</td>\n",
       "      <td>1</td>\n",
       "    </tr>\n",
       "    <tr>\n",
       "      <th>688</th>\n",
       "      <td>15776494</td>\n",
       "      <td>0</td>\n",
       "      <td>27.42</td>\n",
       "      <td>14.500</td>\n",
       "      <td>2</td>\n",
       "      <td>14</td>\n",
       "      <td>8</td>\n",
       "      <td>3.085</td>\n",
       "      <td>1</td>\n",
       "      <td>1</td>\n",
       "      <td>1</td>\n",
       "      <td>0</td>\n",
       "      <td>2</td>\n",
       "      <td>120</td>\n",
       "      <td>12</td>\n",
       "      <td>1</td>\n",
       "    </tr>\n",
       "    <tr>\n",
       "      <th>689</th>\n",
       "      <td>15592412</td>\n",
       "      <td>1</td>\n",
       "      <td>41.00</td>\n",
       "      <td>0.040</td>\n",
       "      <td>2</td>\n",
       "      <td>10</td>\n",
       "      <td>4</td>\n",
       "      <td>0.040</td>\n",
       "      <td>0</td>\n",
       "      <td>1</td>\n",
       "      <td>1</td>\n",
       "      <td>0</td>\n",
       "      <td>1</td>\n",
       "      <td>560</td>\n",
       "      <td>1</td>\n",
       "      <td>1</td>\n",
       "    </tr>\n",
       "  </tbody>\n",
       "</table>\n",
       "<p>690 rows × 16 columns</p>\n",
       "</div>"
      ],
      "text/plain": [
       "     CustomerID  A1     A2      A3  A4  A5  A6     A7  A8  A9  A10  A11  A12  \\\n",
       "0      15776156   1  22.08  11.460   2   4   4  1.585   0   0    0    1    2   \n",
       "1      15739548   0  22.67   7.000   2   8   4  0.165   0   0    0    0    2   \n",
       "2      15662854   0  29.58   1.750   1   4   4  1.250   0   0    0    1    2   \n",
       "3      15687688   0  21.67  11.500   1   5   3  0.000   1   1   11    1    2   \n",
       "4      15715750   1  20.17   8.170   2   6   4  1.960   1   1   14    0    2   \n",
       "..          ...  ..    ...     ...  ..  ..  ..    ...  ..  ..  ...  ...  ...   \n",
       "685    15808223   1  31.57  10.500   2  14   4  6.500   1   0    0    0    2   \n",
       "686    15769980   1  20.67   0.415   2   8   4  0.125   0   0    0    0    2   \n",
       "687    15675450   0  18.83   9.540   2   6   4  0.085   1   0    0    0    2   \n",
       "688    15776494   0  27.42  14.500   2  14   8  3.085   1   1    1    0    2   \n",
       "689    15592412   1  41.00   0.040   2  10   4  0.040   0   1    1    0    1   \n",
       "\n",
       "     A13   A14  Class  \n",
       "0    100  1213      0  \n",
       "1    160     1      0  \n",
       "2    280     1      0  \n",
       "3      0     1      1  \n",
       "4     60   159      1  \n",
       "..   ...   ...    ...  \n",
       "685    0     1      1  \n",
       "686    0    45      0  \n",
       "687  100     1      1  \n",
       "688  120    12      1  \n",
       "689  560     1      1  \n",
       "\n",
       "[690 rows x 16 columns]"
      ]
     },
     "execution_count": 21,
     "metadata": {},
     "output_type": "execute_result"
    }
   ],
   "source": [
    "dataset"
   ]
  },
  {
   "cell_type": "markdown",
   "metadata": {
    "colab_type": "text",
    "id": "xaNRHZwYAAV2"
   },
   "source": [
    "## Feature Scaling\n"
   ]
  },
  {
   "cell_type": "code",
   "execution_count": 3,
   "metadata": {
    "colab": {},
    "colab_type": "code",
    "id": "57QK6WXTAAV3"
   },
   "outputs": [],
   "source": [
    "from sklearn.preprocessing import MinMaxScaler\n",
    "sc = MinMaxScaler(feature_range = (0,1))\n",
    "X = sc.fit_transform(X)"
   ]
  },
  {
   "cell_type": "markdown",
   "metadata": {
    "colab_type": "text",
    "id": "WyD5sEHYAAV5"
   },
   "source": [
    "##Training the SOM\n"
   ]
  },
  {
   "cell_type": "code",
   "execution_count": 4,
   "metadata": {
    "colab": {},
    "colab_type": "code",
    "id": "-BXn8YphAAV6"
   },
   "outputs": [],
   "source": [
    "from minisom import MiniSom\n",
    "som = MiniSom(x=10, y=10, input_len= 15, sigma= 1.0, learning_rate = 0.5)\n",
    "som.random_weights_init(X)\n",
    "som.train_random(data = X, num_iteration = 100)"
   ]
  },
  {
   "cell_type": "markdown",
   "metadata": {
    "colab_type": "text",
    "id": "d9qf8w7sAAV8"
   },
   "source": [
    "##Visualizing the results\n"
   ]
  },
  {
   "cell_type": "code",
   "execution_count": 5,
   "metadata": {
    "colab": {
     "base_uri": "https://localhost:8080/",
     "height": 269
    },
    "colab_type": "code",
    "id": "cshl06SmAAV8",
    "outputId": "e183b980-8d59-473a-d72d-f3086473e90d"
   },
   "outputs": [
    {
     "data": {
      "image/png": "[encoded data removed]",
      "text/plain": [
       "<Figure size 640x480 with 2 Axes>"
      ]
     },
     "metadata": {},
     "output_type": "display_data"
    }
   ],
   "source": [
    "from pylab import bone, pcolor, colorbar, plot, show\n",
    "bone()\n",
    "pcolor(som.distance_map().T)\n",
    "colorbar()\n",
    "markers = ['o', 's']\n",
    "colors = ['r', 'g']\n",
    "for i, x in enumerate(X):\n",
    "    w = som.winner(x)\n",
    "    plot(w[0] + 0.5,\n",
    "         w[1] + 0.5,\n",
    "         markers[y[i]],\n",
    "         markeredgecolor = colors[y[i]],\n",
    "         markerfacecolor = 'None',\n",
    "         markersize = 10,\n",
    "         markeredgewidth = 2)\n",
    "show()"
   ]
  },
  {
   "cell_type": "markdown",
   "metadata": {
    "colab_type": "text",
    "id": "gijZkcIGAAWA"
   },
   "source": [
    "## Finding the frauds\n"
   ]
  },
  {
   "cell_type": "code",
   "execution_count": 6,
   "metadata": {
    "colab": {},
    "colab_type": "code",
    "id": "EJIH9sDvAAWA"
   },
   "outputs": [],
   "source": [
    "mappings = som.win_map(X)\n",
    "frauds = np.concatenate((mappings[(5,9)], mappings[(9,7)]), axis = 0)\n",
    "frauds = sc.inverse_transform(frauds)"
   ]
  },
  {
   "cell_type": "markdown",
   "metadata": {
    "colab_type": "text",
    "id": "EOVO2DzCAAWD"
   },
   "source": [
    "##Printing the Fraunch Clients"
   ]
  },
  {
   "cell_type": "code",
   "execution_count": 7,
   "metadata": {
    "colab": {
     "base_uri": "https://localhost:8080/",
     "height": 833
    },
    "colab_type": "code",
    "id": "IjotUwR3AAWD",
    "outputId": "6babd385-f60f-42db-b5cf-c7b881da768f"
   },
   "outputs": [
    {
     "name": "stdout",
     "output_type": "stream",
     "text": [
      "Fraud Customer IDs\n",
      "15788776\n",
      "15775235\n",
      "15750921\n",
      "15762716\n",
      "15744423\n",
      "15814116\n",
      "15785705\n",
      "15786237\n",
      "15671014\n",
      "15579583\n",
      "15642336\n",
      "15740487\n",
      "15811742\n",
      "15702571\n",
      "15715907\n",
      "15768342\n",
      "15748532\n",
      "15689692\n",
      "15788634\n"
     ]
    }
   ],
   "source": [
    "print('Fraud Customer IDs')\n",
    "for i in frauds[:, 0]:\n",
    "  print(int(i))"
   ]
  },
  {
   "cell_type": "markdown",
   "metadata": {
    "colab_type": "text",
    "id": "-9oatjNmAC8i"
   },
   "source": [
    "#Part 2 - Going from Unsupervised to Supervised Deep Learning"
   ]
  },
  {
   "cell_type": "markdown",
   "metadata": {
    "colab_type": "text",
    "id": "eDv-ecVtAtwU"
   },
   "source": [
    "##Create Matrix of Features"
   ]
  },
  {
   "cell_type": "code",
   "execution_count": 8,
   "metadata": {
    "colab": {},
    "colab_type": "code",
    "id": "h3ADq7HsA3Sh"
   },
   "outputs": [],
   "source": [
    "customers = dataset.iloc[:, 1:].values"
   ]
  },
  {
   "cell_type": "markdown",
   "metadata": {
    "colab_type": "text",
    "id": "ycrQvNAvBAng"
   },
   "source": [
    "## Create Dependent Variable"
   ]
  },
  {
   "cell_type": "code",
   "execution_count": 9,
   "metadata": {
    "colab": {},
    "colab_type": "code",
    "id": "Dt1TQG3NBFDM"
   },
   "outputs": [],
   "source": [
    "is_fraud = np.zeros(len(dataset))\n",
    "for i in range(len(dataset)):\n",
    "  if dataset.iloc[i,0] in frauds:\n",
    "    is_fraud[i] = 1"
   ]
  },
  {
   "cell_type": "code",
   "execution_count": 10,
   "metadata": {},
   "outputs": [
    {
     "data": {
      "text/plain": [
       "array([0., 0., 0., 0., 0., 0., 0., 0., 0., 0., 0., 0., 0., 0., 0., 0., 0.,\n",
       "       0., 0., 0., 0., 1., 0., 0., 0., 0., 0., 0., 0., 0., 0., 0., 0., 0.,\n",
       "       0., 0., 0., 0., 0., 0., 0., 0., 0., 0., 0., 0., 0., 0., 0., 0., 0.,\n",
       "       0., 0., 0., 0., 0., 0., 0., 0., 0., 0., 0., 0., 0., 0., 0., 0., 0.,\n",
       "       0., 0., 0., 0., 0., 0., 0., 0., 0., 0., 0., 0., 0., 0., 0., 0., 0.,\n",
       "       0., 0., 0., 0., 0., 0., 0., 0., 0., 0., 0., 0., 0., 0., 0., 0., 0.,\n",
       "       0., 0., 0., 0., 0., 0., 0., 0., 0., 0., 0., 0., 0., 0., 0., 1., 0.,\n",
       "       0., 0., 0., 0., 0., 0., 0., 0., 0., 0., 0., 0., 0., 0., 0., 0., 0.,\n",
       "       0., 0., 0., 0., 0., 0., 0., 0., 0., 0., 0., 0., 0., 0., 0., 0., 0.,\n",
       "       0., 0., 0., 0., 0., 0., 0., 0., 0., 1., 0., 0., 0., 0., 0., 0., 0.,\n",
       "       0., 0., 0., 0., 0., 0., 0., 0., 0., 0., 0., 0., 0., 0., 0., 0., 0.,\n",
       "       0., 0., 0., 0., 0., 0., 0., 0., 0., 0., 0., 0., 0., 0., 0., 0., 1.,\n",
       "       0., 0., 0., 0., 0., 0., 0., 0., 0., 0., 0., 0., 0., 0., 0., 0., 0.,\n",
       "       0., 0., 0., 0., 0., 0., 0., 0., 0., 0., 0., 0., 0., 0., 0., 0., 0.,\n",
       "       0., 0., 0., 0., 1., 0., 0., 0., 0., 0., 0., 0., 0., 0., 0., 0., 0.,\n",
       "       0., 0., 0., 0., 0., 0., 0., 0., 1., 0., 0., 0., 1., 0., 0., 0., 0.,\n",
       "       0., 0., 0., 0., 1., 0., 0., 0., 0., 0., 0., 0., 0., 0., 0., 0., 0.,\n",
       "       0., 0., 0., 0., 0., 0., 0., 0., 0., 0., 0., 0., 0., 0., 0., 0., 0.,\n",
       "       0., 0., 0., 0., 0., 1., 0., 0., 0., 0., 0., 0., 0., 0., 0., 0., 0.,\n",
       "       0., 0., 0., 0., 0., 0., 0., 0., 0., 0., 0., 0., 0., 0., 0., 0., 0.,\n",
       "       0., 0., 0., 0., 0., 0., 0., 0., 1., 0., 0., 0., 0., 0., 0., 0., 0.,\n",
       "       0., 0., 0., 0., 0., 0., 0., 0., 0., 0., 0., 0., 0., 0., 0., 0., 0.,\n",
       "       0., 0., 0., 0., 0., 0., 0., 0., 0., 0., 0., 0., 0., 0., 0., 0., 0.,\n",
       "       0., 0., 0., 0., 0., 0., 0., 0., 0., 0., 0., 0., 0., 0., 0., 0., 0.,\n",
       "       0., 0., 0., 0., 0., 0., 0., 0., 0., 0., 0., 0., 0., 0., 0., 0., 0.,\n",
       "       0., 0., 0., 0., 0., 0., 0., 0., 0., 0., 0., 0., 0., 0., 0., 0., 0.,\n",
       "       0., 0., 0., 0., 0., 0., 0., 0., 0., 0., 0., 0., 1., 0., 0., 0., 0.,\n",
       "       0., 0., 0., 0., 0., 0., 0., 0., 0., 0., 0., 0., 0., 0., 0., 0., 0.,\n",
       "       0., 0., 0., 0., 0., 0., 0., 0., 0., 0., 1., 0., 0., 0., 0., 0., 0.,\n",
       "       0., 0., 0., 0., 0., 0., 0., 0., 0., 0., 0., 0., 0., 0., 0., 0., 0.,\n",
       "       0., 0., 0., 0., 0., 1., 0., 0., 0., 0., 1., 0., 0., 0., 0., 0., 0.,\n",
       "       0., 0., 0., 0., 0., 0., 0., 0., 0., 0., 0., 0., 0., 0., 0., 0., 0.,\n",
       "       0., 0., 0., 0., 0., 0., 1., 0., 0., 0., 0., 0., 0., 0., 0., 0., 0.,\n",
       "       0., 0., 0., 0., 0., 0., 0., 0., 0., 0., 0., 1., 0., 0., 0., 0., 0.,\n",
       "       0., 0., 0., 0., 0., 0., 0., 0., 0., 1., 0., 0., 0., 0., 0., 0., 0.,\n",
       "       0., 0., 0., 0., 0., 0., 0., 0., 0., 0., 0., 0., 0., 0., 0., 0., 0.,\n",
       "       0., 0., 0., 0., 0., 0., 0., 0., 0., 0., 0., 0., 0., 0., 1., 0., 0.,\n",
       "       0., 0., 0., 0., 0., 0., 0., 0., 0., 0., 0., 0., 0., 0., 0., 0., 0.,\n",
       "       0., 0., 0., 0., 0., 0., 0., 0., 0., 0., 0., 0., 0., 0., 0., 0., 0.,\n",
       "       0., 0., 0., 0., 0., 0., 0., 0., 0., 0., 0., 1., 0., 0., 0., 0., 0.,\n",
       "       0., 0., 0., 0., 0., 0., 0., 0., 0., 0.])"
      ]
     },
     "execution_count": 10,
     "metadata": {},
     "output_type": "execute_result"
    }
   ],
   "source": [
    "is_fraud"
   ]
  },
  {
   "cell_type": "markdown",
   "metadata": {
    "colab_type": "text",
    "id": "OgQBLi0iBsji"
   },
   "source": [
    "#Part 3 - ANN"
   ]
  },
  {
   "cell_type": "markdown",
   "metadata": {
    "colab_type": "text",
    "id": "RE_FcHyfV3TQ"
   },
   "source": [
    "### Feature Scaling"
   ]
  },
  {
   "cell_type": "code",
   "execution_count": 11,
   "metadata": {
    "colab": {},
    "colab_type": "code",
    "id": "ViCrE00rV8Sk"
   },
   "outputs": [],
   "source": [
    "from sklearn.preprocessing import StandardScaler\n",
    "sc = StandardScaler()\n",
    "customers = sc.fit_transform(customers)"
   ]
  },
  {
   "cell_type": "markdown",
   "metadata": {
    "colab_type": "text",
    "id": "-zfEzkRVXIwF"
   },
   "source": [
    "## Building the ANN"
   ]
  },
  {
   "cell_type": "markdown",
   "metadata": {
    "colab_type": "text",
    "id": "S5-uTVVvCcTf"
   },
   "source": [
    "##Import Tensorflow"
   ]
  },
  {
   "cell_type": "code",
   "execution_count": 12,
   "metadata": {
    "colab": {
     "base_uri": "https://localhost:8080/",
     "height": 34
    },
    "colab_type": "code",
    "id": "veBa6HoECbZI",
    "outputId": "bec46426-fda2-40fd-832c-09b6a44001a9"
   },
   "outputs": [
    {
     "name": "stderr",
     "output_type": "stream",
     "text": [
      "2023-07-26 14:24:23.732537: I tensorflow/core/platform/cpu_feature_guard.cc:182] This TensorFlow binary is optimized to use available CPU instructions in performance-critical operations.\n",
      "To enable the following instructions: AVX2 FMA, in other operations, rebuild TensorFlow with the appropriate compiler flags.\n"
     ]
    },
    {
     "data": {
      "text/plain": [
       "'2.12.0'"
      ]
     },
     "execution_count": 12,
     "metadata": {},
     "output_type": "execute_result"
    }
   ],
   "source": [
    "import tensorflow as tf\n",
    "tf.__version__"
   ]
  },
  {
   "cell_type": "markdown",
   "metadata": {
    "colab_type": "text",
    "id": "KvdeScabXtlB"
   },
   "source": [
    "## Initializing the ANN"
   ]
  },
  {
   "cell_type": "code",
   "execution_count": 13,
   "metadata": {
    "colab": {},
    "colab_type": "code",
    "id": "3dtrScHxXQox"
   },
   "outputs": [],
   "source": [
    "ann = tf.keras.models.Sequential()"
   ]
  },
  {
   "cell_type": "markdown",
   "metadata": {
    "colab_type": "text",
    "id": "rP6urV6SX7kS"
   },
   "source": [
    "##Adding the input layer and the first hidden layer"
   ]
  },
  {
   "cell_type": "code",
   "execution_count": 14,
   "metadata": {
    "colab": {},
    "colab_type": "code",
    "id": "bppGycBXYCQr"
   },
   "outputs": [],
   "source": [
    "ann.add(tf.keras.layers.Dense(units=2, activation='relu'))"
   ]
  },
  {
   "cell_type": "markdown",
   "metadata": {
    "colab_type": "text",
    "id": "OyNEe6RXYcU4"
   },
   "source": [
    "## Adding the output layer"
   ]
  },
  {
   "cell_type": "code",
   "execution_count": 15,
   "metadata": {
    "colab": {},
    "colab_type": "code",
    "id": "Cn3x41RBYfvY"
   },
   "outputs": [],
   "source": [
    "ann.add(tf.keras.layers.Dense(units=1, activation='sigmoid'))"
   ]
  },
  {
   "cell_type": "markdown",
   "metadata": {
    "colab_type": "text",
    "id": "JT4u2S1_Y4WG"
   },
   "source": [
    "## Training the ANN"
   ]
  },
  {
   "cell_type": "markdown",
   "metadata": {
    "colab_type": "text",
    "id": "8GWlJChhY_ZI"
   },
   "source": [
    "## Compiling the ANN"
   ]
  },
  {
   "cell_type": "code",
   "execution_count": 16,
   "metadata": {
    "colab": {},
    "colab_type": "code",
    "id": "fG3RrwDXZEaS"
   },
   "outputs": [],
   "source": [
    "ann.compile(optimizer = 'adam', loss = 'binary_crossentropy', metrics = ['accuracy'])"
   ]
  },
  {
   "cell_type": "markdown",
   "metadata": {
    "colab_type": "text",
    "id": "0QR_G5u7ZLSM"
   },
   "source": [
    "## Training the ANN on the Training set"
   ]
  },
  {
   "cell_type": "code",
   "execution_count": 17,
   "metadata": {
    "colab": {
     "base_uri": "https://localhost:8080/",
     "height": 374
    },
    "colab_type": "code",
    "id": "nHZ-LKv_ZRb3",
    "outputId": "b9f6c5ec-47ae-4ebf-868b-d72ed3c02996"
   },
   "outputs": [
    {
     "name": "stdout",
     "output_type": "stream",
     "text": [
      "Epoch 1/10\n",
      "690/690 [==============================] - 1s 892us/step - loss: 0.3494 - accuracy: 0.9725\n",
      "Epoch 2/10\n",
      "690/690 [==============================] - 1s 735us/step - loss: 0.2080 - accuracy: 0.9725\n",
      "Epoch 3/10\n",
      "690/690 [==============================] - 1s 737us/step - loss: 0.1544 - accuracy: 0.9725\n",
      "Epoch 4/10\n",
      "690/690 [==============================] - 1s 736us/step - loss: 0.1298 - accuracy: 0.9725\n",
      "Epoch 5/10\n",
      "690/690 [==============================] - 1s 790us/step - loss: 0.1157 - accuracy: 0.9725\n",
      "Epoch 6/10\n",
      "690/690 [==============================] - 1s 735us/step - loss: 0.1072 - accuracy: 0.9725\n",
      "Epoch 7/10\n",
      "690/690 [==============================] - 1s 725us/step - loss: 0.1003 - accuracy: 0.9725\n",
      "Epoch 8/10\n",
      "690/690 [==============================] - 1s 754us/step - loss: 0.0951 - accuracy: 0.9725\n",
      "Epoch 9/10\n",
      "690/690 [==============================] - 1s 741us/step - loss: 0.0911 - accuracy: 0.9725\n",
      "Epoch 10/10\n",
      "690/690 [==============================] - 1s 735us/step - loss: 0.0882 - accuracy: 0.9725\n"
     ]
    },
    {
     "data": {
      "text/plain": [
       "<keras.callbacks.History at 0x7fccc2c71f90>"
      ]
     },
     "execution_count": 17,
     "metadata": {},
     "output_type": "execute_result"
    }
   ],
   "source": [
    "ann.fit(customers, is_fraud, batch_size = 1, epochs = 10)"
   ]
  },
  {
   "cell_type": "markdown",
   "metadata": {
    "colab_type": "text",
    "id": "tJj5k2MxZga3"
   },
   "source": [
    "## Predicting test set results"
   ]
  },
  {
   "cell_type": "code",
   "execution_count": 20,
   "metadata": {},
   "outputs": [
    {
     "data": {
      "text/plain": [
       "array([[15776156],\n",
       "       [15739548],\n",
       "       [15662854],\n",
       "       [15687688],\n",
       "       [15715750],\n",
       "       [15571121],\n",
       "       [15726466],\n",
       "       [15660390],\n",
       "       [15663942],\n",
       "       [15638610],\n",
       "       [15644446],\n",
       "       [15585892],\n",
       "       [15609356],\n",
       "       [15803378],\n",
       "       [15599440],\n",
       "       [15692408],\n",
       "       [15683168],\n",
       "       [15790254],\n",
       "       [15767729],\n",
       "       [15768600],\n",
       "       [15699839],\n",
       "       [15786237],\n",
       "       [15694530],\n",
       "       [15796813],\n",
       "       [15605791],\n",
       "       [15714087],\n",
       "       [15711446],\n",
       "       [15588123],\n",
       "       [15748552],\n",
       "       [15618410],\n",
       "       [15672432],\n",
       "       [15610042],\n",
       "       [15580914],\n",
       "       [15583680],\n",
       "       [15813718],\n",
       "       [15767264],\n",
       "       [15686461],\n",
       "       [15678882],\n",
       "       [15789611],\n",
       "       [15668679],\n",
       "       [15631685],\n",
       "       [15655658],\n",
       "       [15753591],\n",
       "       [15617348],\n",
       "       [15704581],\n",
       "       [15738487],\n",
       "       [15648069],\n",
       "       [15737627],\n",
       "       [15731586],\n",
       "       [15757467],\n",
       "       [15597709],\n",
       "       [15720529],\n",
       "       [15596797],\n",
       "       [15681755],\n",
       "       [15815271],\n",
       "       [15682860],\n",
       "       [15621546],\n",
       "       [15705918],\n",
       "       [15684512],\n",
       "       [15671769],\n",
       "       [15642934],\n",
       "       [15594305],\n",
       "       [15789201],\n",
       "       [15706762],\n",
       "       [15766183],\n",
       "       [15777994],\n",
       "       [15568162],\n",
       "       [15680643],\n",
       "       [15761854],\n",
       "       [15730793],\n",
       "       [15692137],\n",
       "       [15608595],\n",
       "       [15709459],\n",
       "       [15775750],\n",
       "       [15585855],\n",
       "       [15752139],\n",
       "       [15768295],\n",
       "       [15766906],\n",
       "       [15725776],\n",
       "       [15682576],\n",
       "       [15704081],\n",
       "       [15719940],\n",
       "       [15672894],\n",
       "       [15667451],\n",
       "       [15636767],\n",
       "       [15571415],\n",
       "       [15575605],\n",
       "       [15649160],\n",
       "       [15615832],\n",
       "       [15600975],\n",
       "       [15690772],\n",
       "       [15565714],\n",
       "       [15763108],\n",
       "       [15723884],\n",
       "       [15644453],\n",
       "       [15655464],\n",
       "       [15783883],\n",
       "       [15787693],\n",
       "       [15664793],\n",
       "       [15642391],\n",
       "       [15756538],\n",
       "       [15668830],\n",
       "       [15796569],\n",
       "       [15677112],\n",
       "       [15815040],\n",
       "       [15590434],\n",
       "       [15597536],\n",
       "       [15723989],\n",
       "       [15767358],\n",
       "       [15594812],\n",
       "       [15688210],\n",
       "       [15681509],\n",
       "       [15572390],\n",
       "       [15801441],\n",
       "       [15783859],\n",
       "       [15575243],\n",
       "       [15773421],\n",
       "       [15788776],\n",
       "       [15765257],\n",
       "       [15661412],\n",
       "       [15636478],\n",
       "       [15603683],\n",
       "       [15651868],\n",
       "       [15815443],\n",
       "       [15682686],\n",
       "       [15697460],\n",
       "       [15748432],\n",
       "       [15698271],\n",
       "       [15808662],\n",
       "       [15690372],\n",
       "       [15781875],\n",
       "       [15801473],\n",
       "       [15704509],\n",
       "       [15694666],\n",
       "       [15731166],\n",
       "       [15728523],\n",
       "       [15788442],\n",
       "       [15689781],\n",
       "       [15764226],\n",
       "       [15809837],\n",
       "       [15805212],\n",
       "       [15716082],\n",
       "       [15643056],\n",
       "       [15654859],\n",
       "       [15761158],\n",
       "       [15577515],\n",
       "       [15723827],\n",
       "       [15646594],\n",
       "       [15712877],\n",
       "       [15598802],\n",
       "       [15699340],\n",
       "       [15691150],\n",
       "       [15608688],\n",
       "       [15737998],\n",
       "       [15735837],\n",
       "       [15659100],\n",
       "       [15609070],\n",
       "       [15650313],\n",
       "       [15627699],\n",
       "       [15591010],\n",
       "       [15798895],\n",
       "       [15745375],\n",
       "       [15775235],\n",
       "       [15780088],\n",
       "       [15649379],\n",
       "       [15713983],\n",
       "       [15709252],\n",
       "       [15699238],\n",
       "       [15732884],\n",
       "       [15587297],\n",
       "       [15684722],\n",
       "       [15621244],\n",
       "       [15744273],\n",
       "       [15682540],\n",
       "       [15636521],\n",
       "       [15785339],\n",
       "       [15638983],\n",
       "       [15654625],\n",
       "       [15697310],\n",
       "       [15678210],\n",
       "       [15575438],\n",
       "       [15632789],\n",
       "       [15621423],\n",
       "       [15573520],\n",
       "       [15740458],\n",
       "       [15762799],\n",
       "       [15686885],\n",
       "       [15565996],\n",
       "       [15662152],\n",
       "       [15711742],\n",
       "       [15701885],\n",
       "       [15774262],\n",
       "       [15567839],\n",
       "       [15644400],\n",
       "       [15797246],\n",
       "       [15778290],\n",
       "       [15708714],\n",
       "       [15586183],\n",
       "       [15761733],\n",
       "       [15773934],\n",
       "       [15705343],\n",
       "       [15593959],\n",
       "       [15664615],\n",
       "       [15671014],\n",
       "       [15657778],\n",
       "       [15585192],\n",
       "       [15592914],\n",
       "       [15770995],\n",
       "       [15570990],\n",
       "       [15596165],\n",
       "       [15788131],\n",
       "       [15800773],\n",
       "       [15690153],\n",
       "       [15638989],\n",
       "       [15623210],\n",
       "       [15652658],\n",
       "       [15684440],\n",
       "       [15730287],\n",
       "       [15720353],\n",
       "       [15767231],\n",
       "       [15761554],\n",
       "       [15706637],\n",
       "       [15690492],\n",
       "       [15694237],\n",
       "       [15729771],\n",
       "       [15609823],\n",
       "       [15793366],\n",
       "       [15614813],\n",
       "       [15566495],\n",
       "       [15707602],\n",
       "       [15635244],\n",
       "       [15805627],\n",
       "       [15607986],\n",
       "       [15799785],\n",
       "       [15699963],\n",
       "       [15624595],\n",
       "       [15629750],\n",
       "       [15651460],\n",
       "       [15753550],\n",
       "       [15594133],\n",
       "       [15772329],\n",
       "       [15591552],\n",
       "       [15750921],\n",
       "       [15701687],\n",
       "       [15728906],\n",
       "       [15670029],\n",
       "       [15763579],\n",
       "       [15728010],\n",
       "       [15663194],\n",
       "       [15736510],\n",
       "       [15745804],\n",
       "       [15631451],\n",
       "       [15746995],\n",
       "       [15730673],\n",
       "       [15734649],\n",
       "       [15701081],\n",
       "       [15632503],\n",
       "       [15585928],\n",
       "       [15648681],\n",
       "       [15747757],\n",
       "       [15718921],\n",
       "       [15571081],\n",
       "       [15734578],\n",
       "       [15579583],\n",
       "       [15622729],\n",
       "       [15662189],\n",
       "       [15692718],\n",
       "       [15762716],\n",
       "       [15724851],\n",
       "       [15587266],\n",
       "       [15675926],\n",
       "       [15706268],\n",
       "       [15581871],\n",
       "       [15666166],\n",
       "       [15671582],\n",
       "       [15680901],\n",
       "       [15642336],\n",
       "       [15653147],\n",
       "       [15571284],\n",
       "       [15591360],\n",
       "       [15810485],\n",
       "       [15611973],\n",
       "       [15735572],\n",
       "       [15567860],\n",
       "       [15795690],\n",
       "       [15706464],\n",
       "       [15725028],\n",
       "       [15751167],\n",
       "       [15633944],\n",
       "       [15672637],\n",
       "       [15680895],\n",
       "       [15793825],\n",
       "       [15611318],\n",
       "       [15768474],\n",
       "       [15716276],\n",
       "       [15623668],\n",
       "       [15696361],\n",
       "       [15607988],\n",
       "       [15637891],\n",
       "       [15789865],\n",
       "       [15627190],\n",
       "       [15788224],\n",
       "       [15702149],\n",
       "       [15708236],\n",
       "       [15568469],\n",
       "       [15764444],\n",
       "       [15794204],\n",
       "       [15807546],\n",
       "       [15782159],\n",
       "       [15618703],\n",
       "       [15793317],\n",
       "       [15740487],\n",
       "       [15722479],\n",
       "       [15688264],\n",
       "       [15583067],\n",
       "       [15686670],\n",
       "       [15593345],\n",
       "       [15811690],\n",
       "       [15734008],\n",
       "       [15771856],\n",
       "       [15762045],\n",
       "       [15778142],\n",
       "       [15689268],\n",
       "       [15721507],\n",
       "       [15750476],\n",
       "       [15810723],\n",
       "       [15787229],\n",
       "       [15570508],\n",
       "       [15617065],\n",
       "       [15689786],\n",
       "       [15648876],\n",
       "       [15802106],\n",
       "       [15773869],\n",
       "       [15711635],\n",
       "       [15795527],\n",
       "       [15759133],\n",
       "       [15679394],\n",
       "       [15801072],\n",
       "       [15646082],\n",
       "       [15796111],\n",
       "       [15670646],\n",
       "       [15578722],\n",
       "       [15815095],\n",
       "       [15730360],\n",
       "       [15763194],\n",
       "       [15720725],\n",
       "       [15567834],\n",
       "       [15720644],\n",
       "       [15811742],\n",
       "       [15813363],\n",
       "       [15717629],\n",
       "       [15713160],\n",
       "       [15568878],\n",
       "       [15809800],\n",
       "       [15736420],\n",
       "       [15757933],\n",
       "       [15623072],\n",
       "       [15683993],\n",
       "       [15570947],\n",
       "       [15797767],\n",
       "       [15731989],\n",
       "       [15591035],\n",
       "       [15586479],\n",
       "       [15605872],\n",
       "       [15666012],\n",
       "       [15641733],\n",
       "       [15593178],\n",
       "       [15649183],\n",
       "       [15736399],\n",
       "       [15751137],\n",
       "       [15757188],\n",
       "       [15726167],\n",
       "       [15624850],\n",
       "       [15717700],\n",
       "       [15716347],\n",
       "       [15696287],\n",
       "       [15638871],\n",
       "       [15765093],\n",
       "       [15592999],\n",
       "       [15641715],\n",
       "       [15607746],\n",
       "       [15625311],\n",
       "       [15573077],\n",
       "       [15735106],\n",
       "       [15672912],\n",
       "       [15589881],\n",
       "       [15660144],\n",
       "       [15664083],\n",
       "       [15690898],\n",
       "       [15808023],\n",
       "       [15676909],\n",
       "       [15764922],\n",
       "       [15766734],\n",
       "       [15795079],\n",
       "       [15757434],\n",
       "       [15673747],\n",
       "       [15808386],\n",
       "       [15603565],\n",
       "       [15744044],\n",
       "       [15577771],\n",
       "       [15769548],\n",
       "       [15802071],\n",
       "       [15677395],\n",
       "       [15632010],\n",
       "       [15779492],\n",
       "       [15694677],\n",
       "       [15704315],\n",
       "       [15742009],\n",
       "       [15766663],\n",
       "       [15742297],\n",
       "       [15688059],\n",
       "       [15752344],\n",
       "       [15698749],\n",
       "       [15631693],\n",
       "       [15604536],\n",
       "       [15802869],\n",
       "       [15635598],\n",
       "       [15592326],\n",
       "       [15736533],\n",
       "       [15647191],\n",
       "       [15622507],\n",
       "       [15765487],\n",
       "       [15646521],\n",
       "       [15746258],\n",
       "       [15692430],\n",
       "       [15625501],\n",
       "       [15640521],\n",
       "       [15790630],\n",
       "       [15664720],\n",
       "       [15750055],\n",
       "       [15644878],\n",
       "       [15754578],\n",
       "       [15705379],\n",
       "       [15761047],\n",
       "       [15671293],\n",
       "       [15687527],\n",
       "       [15647898],\n",
       "       [15671534],\n",
       "       [15591248],\n",
       "       [15676156],\n",
       "       [15812918],\n",
       "       [15604130],\n",
       "       [15700549],\n",
       "       [15715519],\n",
       "       [15707042],\n",
       "       [15605276],\n",
       "       [15630592],\n",
       "       [15636626],\n",
       "       [15740411],\n",
       "       [15593834],\n",
       "       [15804235],\n",
       "       [15679801],\n",
       "       [15673907],\n",
       "       [15636562],\n",
       "       [15702571],\n",
       "       [15627365],\n",
       "       [15748499],\n",
       "       [15598614],\n",
       "       [15668889],\n",
       "       [15800049],\n",
       "       [15583724],\n",
       "       [15622083],\n",
       "       [15645571],\n",
       "       [15598266],\n",
       "       [15667934],\n",
       "       [15569682],\n",
       "       [15772941],\n",
       "       [15586174],\n",
       "       [15803682],\n",
       "       [15627328],\n",
       "       [15717065],\n",
       "       [15602456],\n",
       "       [15721569],\n",
       "       [15573798],\n",
       "       [15638272],\n",
       "       [15799859],\n",
       "       [15599152],\n",
       "       [15737909],\n",
       "       [15646190],\n",
       "       [15711249],\n",
       "       [15671987],\n",
       "       [15812766],\n",
       "       [15778589],\n",
       "       [15750104],\n",
       "       [15784526],\n",
       "       [15646563],\n",
       "       [15744423],\n",
       "       [15593694],\n",
       "       [15785367],\n",
       "       [15687765],\n",
       "       [15789014],\n",
       "       [15703177],\n",
       "       [15660263],\n",
       "       [15776545],\n",
       "       [15683276],\n",
       "       [15599272],\n",
       "       [15589541],\n",
       "       [15608804],\n",
       "       [15645820],\n",
       "       [15659031],\n",
       "       [15790113],\n",
       "       [15652289],\n",
       "       [15605341],\n",
       "       [15697844],\n",
       "       [15652048],\n",
       "       [15587038],\n",
       "       [15660528],\n",
       "       [15700300],\n",
       "       [15642001],\n",
       "       [15580366],\n",
       "       [15657228],\n",
       "       [15729377],\n",
       "       [15686913],\n",
       "       [15631267],\n",
       "       [15632275],\n",
       "       [15715907],\n",
       "       [15764841],\n",
       "       [15748649],\n",
       "       [15771409],\n",
       "       [15779207],\n",
       "       [15814116],\n",
       "       [15665087],\n",
       "       [15611189],\n",
       "       [15729718],\n",
       "       [15733602],\n",
       "       [15620103],\n",
       "       [15770406],\n",
       "       [15800554],\n",
       "       [15611409],\n",
       "       [15646535],\n",
       "       [15575430],\n",
       "       [15711299],\n",
       "       [15642063],\n",
       "       [15706602],\n",
       "       [15592773],\n",
       "       [15786539],\n",
       "       [15737542],\n",
       "       [15590234],\n",
       "       [15773776],\n",
       "       [15728082],\n",
       "       [15609987],\n",
       "       [15735330],\n",
       "       [15649430],\n",
       "       [15768777],\n",
       "       [15777893],\n",
       "       [15791326],\n",
       "       [15615176],\n",
       "       [15735221],\n",
       "       [15617991],\n",
       "       [15658504],\n",
       "       [15785705],\n",
       "       [15801817],\n",
       "       [15752578],\n",
       "       [15781574],\n",
       "       [15792107],\n",
       "       [15569917],\n",
       "       [15721504],\n",
       "       [15757306],\n",
       "       [15647295],\n",
       "       [15642098],\n",
       "       [15696120],\n",
       "       [15675176],\n",
       "       [15700046],\n",
       "       [15782089],\n",
       "       [15706394],\n",
       "       [15759387],\n",
       "       [15623369],\n",
       "       [15732943],\n",
       "       [15750545],\n",
       "       [15809909],\n",
       "       [15642448],\n",
       "       [15791944],\n",
       "       [15768342],\n",
       "       [15567919],\n",
       "       [15674750],\n",
       "       [15778345],\n",
       "       [15687634],\n",
       "       [15666096],\n",
       "       [15581700],\n",
       "       [15656417],\n",
       "       [15649101],\n",
       "       [15781975],\n",
       "       [15700511],\n",
       "       [15770255],\n",
       "       [15643574],\n",
       "       [15595010],\n",
       "       [15580579],\n",
       "       [15748532],\n",
       "       [15773789],\n",
       "       [15600027],\n",
       "       [15620832],\n",
       "       [15568819],\n",
       "       [15748691],\n",
       "       [15583552],\n",
       "       [15588019],\n",
       "       [15713250],\n",
       "       [15569595],\n",
       "       [15794868],\n",
       "       [15576680],\n",
       "       [15613699],\n",
       "       [15609758],\n",
       "       [15762392],\n",
       "       [15693382],\n",
       "       [15791769],\n",
       "       [15712483],\n",
       "       [15636454],\n",
       "       [15710138],\n",
       "       [15571571],\n",
       "       [15638751],\n",
       "       [15598574],\n",
       "       [15796787],\n",
       "       [15615670],\n",
       "       [15705506],\n",
       "       [15599535],\n",
       "       [15768449],\n",
       "       [15725002],\n",
       "       [15611682],\n",
       "       [15749964],\n",
       "       [15678779],\n",
       "       [15752601],\n",
       "       [15758477],\n",
       "       [15629133],\n",
       "       [15604963],\n",
       "       [15796413],\n",
       "       [15812470],\n",
       "       [15587443],\n",
       "       [15689692],\n",
       "       [15779586],\n",
       "       [15667588],\n",
       "       [15624423],\n",
       "       [15591107],\n",
       "       [15748986],\n",
       "       [15793896],\n",
       "       [15620570],\n",
       "       [15727811],\n",
       "       [15707681],\n",
       "       [15702030],\n",
       "       [15673238],\n",
       "       [15604196],\n",
       "       [15769356],\n",
       "       [15665590],\n",
       "       [15572361],\n",
       "       [15667460],\n",
       "       [15654760],\n",
       "       [15632669],\n",
       "       [15613673],\n",
       "       [15698522],\n",
       "       [15741633],\n",
       "       [15674583],\n",
       "       [15665374],\n",
       "       [15588854],\n",
       "       [15810716],\n",
       "       [15776921],\n",
       "       [15569394],\n",
       "       [15788215],\n",
       "       [15641007],\n",
       "       [15594651],\n",
       "       [15575146],\n",
       "       [15608916],\n",
       "       [15666297],\n",
       "       [15598586],\n",
       "       [15665014],\n",
       "       [15701738],\n",
       "       [15650591],\n",
       "       [15652667],\n",
       "       [15679622],\n",
       "       [15730150],\n",
       "       [15813192],\n",
       "       [15606554],\n",
       "       [15611794],\n",
       "       [15672357],\n",
       "       [15711759],\n",
       "       [15615296],\n",
       "       [15699294],\n",
       "       [15788634],\n",
       "       [15660871],\n",
       "       [15618258],\n",
       "       [15722535],\n",
       "       [15711977],\n",
       "       [15690169],\n",
       "       [15790689],\n",
       "       [15665181],\n",
       "       [15633608],\n",
       "       [15805261],\n",
       "       [15740356],\n",
       "       [15808223],\n",
       "       [15769980],\n",
       "       [15675450],\n",
       "       [15776494],\n",
       "       [15592412]])"
      ]
     },
     "execution_count": 20,
     "metadata": {},
     "output_type": "execute_result"
    }
   ],
   "source": [
    "dataset.iloc[:, 0:1].values"
   ]
  },
  {
   "cell_type": "code",
   "execution_count": 18,
   "metadata": {
    "colab": {},
    "colab_type": "code",
    "id": "nIyEeQdRZwgs",
    "scrolled": true
   },
   "outputs": [
    {
     "name": "stdout",
     "output_type": "stream",
     "text": [
      "22/22 [==============================] - 0s 1ms/step\n"
     ]
    }
   ],
   "source": [
    "y_pred = ann.predict(customers)\n",
    "y_pred = np.concatenate((dataset.iloc[:, 0:1].values, y_pred), axis = 1)\n",
    "y_pred = y_pred[y_pred[:, 1].argsort()]"
   ]
  },
  {
   "cell_type": "code",
   "execution_count": 19,
   "metadata": {
    "colab": {},
    "colab_type": "code",
    "id": "fX2iDXYiD-sN"
   },
   "outputs": [
    {
     "name": "stdout",
     "output_type": "stream",
     "text": [
      "[[1.56214230e+07 4.35580603e-08]\n",
      " [1.57005490e+07 3.06133256e-06]\n",
      " [1.56547600e+07 4.74138596e-06]\n",
      " ...\n",
      " [1.57444230e+07 2.38306701e-01]\n",
      " [1.57207250e+07 2.38306701e-01]\n",
      " [1.57159070e+07 2.38306701e-01]]\n"
     ]
    }
   ],
   "source": [
    "print(y_pred)"
   ]
  },
  {
   "cell_type": "code",
   "execution_count": null,
   "metadata": {},
   "outputs": [],
   "source": []
  }
 ],
 "metadata": {
  "colab": {
   "collapsed_sections": [],
   "name": "Mega_Case_Study.ipynb",
   "provenance": [],
   "toc_visible": true
  },
  "kernelspec": {
   "display_name": "Python 3 (ipykernel)",
   "language": "python",
   "name": "python3"
  },
  "language_info": {
   "codemirror_mode": {
    "name": "ipython",
    "version": 3
   },
   "file_extension": ".py",
   "mimetype": "text/x-python",
   "name": "python",
   "nbconvert_exporter": "python",
   "pygments_lexer": "ipython3",
   "version": "3.10.9"
  }
 },
 "nbformat": 4,
 "nbformat_minor": 1
}
